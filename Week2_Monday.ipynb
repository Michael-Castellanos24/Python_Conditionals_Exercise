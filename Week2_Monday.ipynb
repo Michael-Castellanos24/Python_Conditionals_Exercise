{
 "cells": [
  {
   "cell_type": "code",
   "execution_count": 19,
   "id": "59b913a5-d182-4c28-aaf2-4d3c649d2de0",
   "metadata": {},
   "outputs": [],
   "source": [
    "#Michael Castellanos\n",
    "#August 4, 2025\n",
    "#Python 2: Conditions and Functions\n",
    "\n",
    "#Task 1: Write a function that checks if a number is positive and prints an appropriate message.\n",
    "def check_positive(number):\n",
    "    if number > 0:\n",
    "        print(\"This number is positive\")\n",
    "\n",
    "\n",
    "#Task 2: Write a function that determines if a student passed or failed based on their score.\n",
    "def check_pass_fail(score):\n",
    "    if score >= 60:\n",
    "        print(\"Pass!\")\n",
    "    else:\n",
    "        print(\"Fail...\")\n",
    "\n",
    "\n",
    "#Task 3: Write a function that converts a numeric grade to a letter grade:\n",
    "def check_grade(grade):\n",
    "    if grade >= 90:\n",
    "        return \"A\"\n",
    "    elif grade >= 80:\n",
    "        return \"B\"\n",
    "    elif grade >= 70:\n",
    "        return \"C\"\n",
    "    elif grade >= 60:\n",
    "        return \"D\"\n",
    "    else: \n",
    "        return \"F\"\n",
    "\n",
    "#Task 4: Write a function to determine user access based on:\n",
    "def check_access(is_logged_in, is_admin, is_premium):\n",
    "    if not is_logged_in:\n",
    "        print(\"Please log in to access the site\")\n",
    "    elif is_admin:\n",
    "        print(\"Welcome admin! Full access granted\")\n",
    "    elif is_premium:\n",
    "        print(\"Welcome premium user! Premium content access granted\")\n",
    "    else: \n",
    "        print(\"Welcome! Basic access granted\")\n",
    "\n",
    "#Task 5: Write a function that returns \"Even\" or \"Odd\" based on whether a number is divisible by 2, using the ternary operator:\n",
    "def check_even_odd(number):\n",
    "    return \"Even\" if number % 2 == 0 else \"Odd\"\n",
    "\n",
    "#Task 6: Write a function to check if a year is a leap year:\n",
    "def is_leap_year(year):\n",
    "    return (year % 4 == 0 and year % 100 != 0) or (year % 400 == 0)\n",
    "\n",
    "#Task 7: Refactor the function below to be more readable and efficient:\n",
    "def improve_classify_item(item_type, price, in_stock):\n",
    "    category = \"electronics\" if item_type == \"electronics\" else \"non electronics\"\n",
    "    price_category = \"Affordable\" if price < \"100\" else \"Premium\"\n",
    "    stock_status = \"in stock\" if in_stock else \"out of stock\"\n",
    "\n",
    "    return f\"{category, price_category, stock_status}\""
   ]
  },
  {
   "cell_type": "code",
   "execution_count": 16,
   "id": "964f34c9-7369-47de-ae5d-f16a6b40f100",
   "metadata": {},
   "outputs": [
    {
     "data": {
      "text/plain": [
       "'Even'"
      ]
     },
     "execution_count": 16,
     "metadata": {},
     "output_type": "execute_result"
    }
   ],
   "source": [
    "check_even_odd(2)"
   ]
  },
  {
   "cell_type": "code",
   "execution_count": 17,
   "id": "e14c2204-8f3a-4df0-b0df-53bab3195848",
   "metadata": {},
   "outputs": [
    {
     "data": {
      "text/plain": [
       "True"
      ]
     },
     "execution_count": 17,
     "metadata": {},
     "output_type": "execute_result"
    }
   ],
   "source": [
    "is_leap_year(2020)"
   ]
  },
  {
   "cell_type": "code",
   "execution_count": 18,
   "id": "77b46eed-1d6f-46e3-a877-4fbe31391649",
   "metadata": {},
   "outputs": [
    {
     "data": {
      "text/plain": [
       "False"
      ]
     },
     "execution_count": 18,
     "metadata": {},
     "output_type": "execute_result"
    }
   ],
   "source": [
    "is_leap_year(2021)"
   ]
  },
  {
   "cell_type": "code",
   "execution_count": 20,
   "id": "62185b0c-cb7f-46b9-a248-ee045c8cbf7d",
   "metadata": {},
   "outputs": [
    {
     "ename": "NameError",
     "evalue": "name 'electronics' is not defined",
     "output_type": "error",
     "traceback": [
      "\u001b[1;31m---------------------------------------------------------------------------\u001b[0m",
      "\u001b[1;31mNameError\u001b[0m                                 Traceback (most recent call last)",
      "Cell \u001b[1;32mIn[20], line 1\u001b[0m\n\u001b[1;32m----> 1\u001b[0m improve_classify_item(electronics)\n",
      "\u001b[1;31mNameError\u001b[0m: name 'electronics' is not defined"
     ]
    }
   ],
   "source": [
    "improve_classify_item(electronics)"
   ]
  },
  {
   "cell_type": "code",
   "execution_count": null,
   "id": "f86a32db-b914-41e1-96b4-fa584aca1de9",
   "metadata": {},
   "outputs": [],
   "source": []
  }
 ],
 "metadata": {
  "kernelspec": {
   "display_name": "Python [conda env:base] *",
   "language": "python",
   "name": "conda-base-py"
  },
  "language_info": {
   "codemirror_mode": {
    "name": "ipython",
    "version": 3
   },
   "file_extension": ".py",
   "mimetype": "text/x-python",
   "name": "python",
   "nbconvert_exporter": "python",
   "pygments_lexer": "ipython3",
   "version": "3.13.5"
  }
 },
 "nbformat": 4,
 "nbformat_minor": 5
}
